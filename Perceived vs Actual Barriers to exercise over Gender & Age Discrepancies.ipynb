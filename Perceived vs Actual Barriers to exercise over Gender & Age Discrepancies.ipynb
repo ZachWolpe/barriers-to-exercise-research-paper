{
 "cells": [
  {
   "cell_type": "markdown",
   "metadata": {},
   "source": [
    "#  Perceived vs Actual Barriers to exercise over Gender & Age Discrepancies\n",
    "\n",
    "```\n",
    "Authors:\n",
    "    Zach Wolpe\n",
    "    zachcolinwolpe@gmail.com\n",
    "    www.zachwolpe.com\n",
    "    \n",
    "    Michelle Gilfillan\n",
    "    u16095503@tuks.co.za\n",
    "```\n",
    "\n",
    "\n",
    "### Description\n",
    "\n",
    "physiotherapeutic research investigating the __PERCEIVED__ vs __Actual__ barriers to exercise exhibited in the elderly. We have conducted a brief statistical analysis of their findings.\n",
    "\n",
    "#### Investigating the discrepancies between age and gender categories\n"
   ]
  },
  {
   "cell_type": "code",
   "execution_count": 1,
   "metadata": {},
   "outputs": [],
   "source": [
    "import pandas as pd\n",
    "import matplotlib.pyplot as plt\n",
    "import numpy as np"
   ]
  },
  {
   "cell_type": "code",
   "execution_count": 2,
   "metadata": {},
   "outputs": [
    {
     "name": "stdout",
     "output_type": "stream",
     "text": [
      "(49, 22)\n"
     ]
    },
    {
     "data": {
      "text/html": [
       "<div>\n",
       "<style scoped>\n",
       "    .dataframe tbody tr th:only-of-type {\n",
       "        vertical-align: middle;\n",
       "    }\n",
       "\n",
       "    .dataframe tbody tr th {\n",
       "        vertical-align: top;\n",
       "    }\n",
       "\n",
       "    .dataframe thead th {\n",
       "        text-align: right;\n",
       "    }\n",
       "</style>\n",
       "<table border=\"1\" class=\"dataframe\">\n",
       "  <thead>\n",
       "    <tr style=\"text-align: right;\">\n",
       "      <th></th>\n",
       "      <th>Name</th>\n",
       "      <th>Participant</th>\n",
       "      <th>Age</th>\n",
       "      <th>Sex</th>\n",
       "      <th>Kasari</th>\n",
       "      <th>Active mins per Week &gt; 150</th>\n",
       "      <th>Lack of time</th>\n",
       "      <th>Social Influence</th>\n",
       "      <th>Lack of energy</th>\n",
       "      <th>Lack of will power</th>\n",
       "      <th>...</th>\n",
       "      <th>Lack of Resources</th>\n",
       "      <th>Resting_blood_pressure_Systolic</th>\n",
       "      <th>Resting_blood_pressure_Diastolic</th>\n",
       "      <th>Resting HR</th>\n",
       "      <th>Stature (m)</th>\n",
       "      <th>Mass (kg)</th>\n",
       "      <th>BMI (kg/m²)</th>\n",
       "      <th>Wasit-to-hip Ratio</th>\n",
       "      <th>% BF</th>\n",
       "      <th>2 min step test</th>\n",
       "    </tr>\n",
       "  </thead>\n",
       "  <tbody>\n",
       "    <tr>\n",
       "      <th>0</th>\n",
       "      <td>Boris Savvas</td>\n",
       "      <td>1</td>\n",
       "      <td>66.0</td>\n",
       "      <td>M</td>\n",
       "      <td>48</td>\n",
       "      <td>active</td>\n",
       "      <td>0</td>\n",
       "      <td>0</td>\n",
       "      <td>0</td>\n",
       "      <td>0</td>\n",
       "      <td>...</td>\n",
       "      <td>0</td>\n",
       "      <td>110.0</td>\n",
       "      <td>70.0</td>\n",
       "      <td>60.0</td>\n",
       "      <td>1.72</td>\n",
       "      <td>84.7</td>\n",
       "      <td>28.63</td>\n",
       "      <td>0.91</td>\n",
       "      <td>26.5</td>\n",
       "      <td>127</td>\n",
       "    </tr>\n",
       "    <tr>\n",
       "      <th>1</th>\n",
       "      <td>Pamela Strydom</td>\n",
       "      <td>2</td>\n",
       "      <td>80.0</td>\n",
       "      <td>F</td>\n",
       "      <td>64</td>\n",
       "      <td>active</td>\n",
       "      <td>0</td>\n",
       "      <td>0</td>\n",
       "      <td>3</td>\n",
       "      <td>0</td>\n",
       "      <td>...</td>\n",
       "      <td>1</td>\n",
       "      <td>130.0</td>\n",
       "      <td>70.0</td>\n",
       "      <td>80.0</td>\n",
       "      <td>1.44</td>\n",
       "      <td>36.8</td>\n",
       "      <td>17.74</td>\n",
       "      <td>0.72</td>\n",
       "      <td>15.1</td>\n",
       "      <td>120</td>\n",
       "    </tr>\n",
       "    <tr>\n",
       "      <th>2</th>\n",
       "      <td>Petrus Strydom</td>\n",
       "      <td>3</td>\n",
       "      <td>83.0</td>\n",
       "      <td>M</td>\n",
       "      <td>40</td>\n",
       "      <td>active</td>\n",
       "      <td>6</td>\n",
       "      <td>0</td>\n",
       "      <td>0</td>\n",
       "      <td>1</td>\n",
       "      <td>...</td>\n",
       "      <td>0</td>\n",
       "      <td>120.0</td>\n",
       "      <td>65.0</td>\n",
       "      <td>64.0</td>\n",
       "      <td>1.64</td>\n",
       "      <td>63.9</td>\n",
       "      <td>23.47</td>\n",
       "      <td>0.86</td>\n",
       "      <td>21.2</td>\n",
       "      <td>120</td>\n",
       "    </tr>\n",
       "    <tr>\n",
       "      <th>3</th>\n",
       "      <td>Elsa Eksteen</td>\n",
       "      <td>6</td>\n",
       "      <td>65.0</td>\n",
       "      <td>F</td>\n",
       "      <td>48</td>\n",
       "      <td>active</td>\n",
       "      <td>0</td>\n",
       "      <td>0</td>\n",
       "      <td>0</td>\n",
       "      <td>0</td>\n",
       "      <td>...</td>\n",
       "      <td>0</td>\n",
       "      <td>110.0</td>\n",
       "      <td>65.0</td>\n",
       "      <td>52.0</td>\n",
       "      <td>1.63</td>\n",
       "      <td>52.0</td>\n",
       "      <td>19.57</td>\n",
       "      <td>0.75</td>\n",
       "      <td>28.3</td>\n",
       "      <td>107</td>\n",
       "    </tr>\n",
       "    <tr>\n",
       "      <th>4</th>\n",
       "      <td>Rita Leibach</td>\n",
       "      <td>16</td>\n",
       "      <td>78.0</td>\n",
       "      <td>F</td>\n",
       "      <td>6</td>\n",
       "      <td>inactive</td>\n",
       "      <td>1</td>\n",
       "      <td>3</td>\n",
       "      <td>0</td>\n",
       "      <td>7</td>\n",
       "      <td>...</td>\n",
       "      <td>2</td>\n",
       "      <td>110.0</td>\n",
       "      <td>65.0</td>\n",
       "      <td>60.0</td>\n",
       "      <td>1.62</td>\n",
       "      <td>51.8</td>\n",
       "      <td>19.73</td>\n",
       "      <td>0.73</td>\n",
       "      <td>31.8</td>\n",
       "      <td>76</td>\n",
       "    </tr>\n",
       "  </tbody>\n",
       "</table>\n",
       "<p>5 rows × 22 columns</p>\n",
       "</div>"
      ],
      "text/plain": [
       "             Name Participant   Age Sex  Kasari Active mins per Week > 150  \\\n",
       "0    Boris Savvas           1  66.0   M      48                    active    \n",
       "1  Pamela Strydom           2  80.0   F      64                     active   \n",
       "2  Petrus Strydom           3  83.0   M      40                     active   \n",
       "3    Elsa Eksteen           6  65.0   F      48                    active    \n",
       "4    Rita Leibach          16  78.0   F       6                  inactive    \n",
       "\n",
       "   Lack of time  Social Influence  Lack of energy  Lack of will power  ...  \\\n",
       "0             0                 0               0                   0  ...   \n",
       "1             0                 0               3                   0  ...   \n",
       "2             6                 0               0                   1  ...   \n",
       "3             0                 0               0                   0  ...   \n",
       "4             1                 3               0                   7  ...   \n",
       "\n",
       "   Lack of Resources  Resting_blood_pressure_Systolic  \\\n",
       "0                  0                            110.0   \n",
       "1                  1                            130.0   \n",
       "2                  0                            120.0   \n",
       "3                  0                            110.0   \n",
       "4                  2                            110.0   \n",
       "\n",
       "   Resting_blood_pressure_Diastolic  Resting HR  Stature (m)  Mass (kg)  \\\n",
       "0                              70.0        60.0         1.72       84.7   \n",
       "1                              70.0        80.0         1.44       36.8   \n",
       "2                              65.0        64.0         1.64       63.9   \n",
       "3                              65.0        52.0         1.63       52.0   \n",
       "4                              65.0        60.0         1.62       51.8   \n",
       "\n",
       "   BMI (kg/m²)  Wasit-to-hip Ratio  % BF  2 min step test  \n",
       "0        28.63                0.91  26.5              127  \n",
       "1        17.74                0.72  15.1              120  \n",
       "2        23.47                0.86  21.2              120  \n",
       "3        19.57                0.75  28.3              107  \n",
       "4        19.73                0.73  31.8               76  \n",
       "\n",
       "[5 rows x 22 columns]"
      ]
     },
     "execution_count": 2,
     "metadata": {},
     "output_type": "execute_result"
    }
   ],
   "source": [
    "df = pd.read_excel('./data/correct_final_data.xlsx' )\n",
    "df.columns = ['Name', 'Participant', 'Age', 'Sex', 'Kasari', 'Active mins per Week > 150', \n",
    "            'Lack of time','Social Influence', 'Lack of energy', 'Lack of will power',\n",
    "            'Fear of Injury', 'Lack of Skill', 'Lack of Resources', 'Resting_blood_pressure_Systolic',\n",
    "       'Resting_blood_pressure_Diastolic', 'Resting HR', 'Stature (m)',\n",
    "       'Mass (kg)', 'BMI (kg/m²)', 'Wasit-to-hip Ratio', '% BF',\n",
    "       '2 min step test']\n",
    "print(df.shape)\n",
    "df.head()"
   ]
  },
  {
   "cell_type": "code",
   "execution_count": 3,
   "metadata": {},
   "outputs": [
    {
     "name": "stdout",
     "output_type": "stream",
     "text": [
      "<class 'pandas.core.frame.DataFrame'>\n",
      "RangeIndex: 49 entries, 0 to 48\n",
      "Data columns (total 22 columns):\n",
      "Name                                49 non-null object\n",
      "Participant                         49 non-null object\n",
      "Age                                 44 non-null float64\n",
      "Sex                                 49 non-null object\n",
      "Kasari                              49 non-null int64\n",
      "Active mins per Week > 150          49 non-null object\n",
      "Lack of time                        49 non-null int64\n",
      "Social Influence                    49 non-null int64\n",
      "Lack of energy                      49 non-null int64\n",
      "Lack of will power                  49 non-null int64\n",
      "Fear of Injury                      49 non-null int64\n",
      "Lack of Skill                       49 non-null int64\n",
      "Lack of Resources                   49 non-null int64\n",
      "Resting_blood_pressure_Systolic     46 non-null float64\n",
      "Resting_blood_pressure_Diastolic    46 non-null float64\n",
      "Resting HR                          44 non-null float64\n",
      "Stature (m)                         46 non-null float64\n",
      "Mass (kg)                           46 non-null float64\n",
      "BMI (kg/m²)                         45 non-null float64\n",
      "Wasit-to-hip Ratio                  45 non-null float64\n",
      "% BF                                44 non-null float64\n",
      "2 min step test                     42 non-null object\n",
      "dtypes: float64(9), int64(8), object(5)\n",
      "memory usage: 8.5+ KB\n"
     ]
    }
   ],
   "source": [
    "df.describe()\n",
    "df.info()"
   ]
  },
  {
   "cell_type": "code",
   "execution_count": null,
   "metadata": {},
   "outputs": [],
   "source": []
  },
  {
   "cell_type": "code",
   "execution_count": 4,
   "metadata": {},
   "outputs": [
    {
     "name": "stdout",
     "output_type": "stream",
     "text": [
      "(55, 11)\n"
     ]
    },
    {
     "data": {
      "text/html": [
       "<div>\n",
       "<style scoped>\n",
       "    .dataframe tbody tr th:only-of-type {\n",
       "        vertical-align: middle;\n",
       "    }\n",
       "\n",
       "    .dataframe tbody tr th {\n",
       "        vertical-align: top;\n",
       "    }\n",
       "\n",
       "    .dataframe thead th {\n",
       "        text-align: right;\n",
       "    }\n",
       "</style>\n",
       "<table border=\"1\" class=\"dataframe\">\n",
       "  <thead>\n",
       "    <tr style=\"text-align: right;\">\n",
       "      <th></th>\n",
       "      <th>Name</th>\n",
       "      <th>Participant</th>\n",
       "      <th>Age</th>\n",
       "      <th>Sex</th>\n",
       "      <th>Lack of time</th>\n",
       "      <th>Social Influence</th>\n",
       "      <th>Lack of energy</th>\n",
       "      <th>Lack of will power</th>\n",
       "      <th>Fear of Injury</th>\n",
       "      <th>Lack of Skill</th>\n",
       "      <th>Lack of Resources</th>\n",
       "    </tr>\n",
       "  </thead>\n",
       "  <tbody>\n",
       "    <tr>\n",
       "      <th>0</th>\n",
       "      <td>Boris Savvas</td>\n",
       "      <td>1</td>\n",
       "      <td>66.0</td>\n",
       "      <td>M</td>\n",
       "      <td>0</td>\n",
       "      <td>0</td>\n",
       "      <td>0</td>\n",
       "      <td>0</td>\n",
       "      <td>0</td>\n",
       "      <td>0</td>\n",
       "      <td>0</td>\n",
       "    </tr>\n",
       "    <tr>\n",
       "      <th>1</th>\n",
       "      <td>Pamela Strydom</td>\n",
       "      <td>2</td>\n",
       "      <td>80.0</td>\n",
       "      <td>F</td>\n",
       "      <td>0</td>\n",
       "      <td>0</td>\n",
       "      <td>3</td>\n",
       "      <td>0</td>\n",
       "      <td>0</td>\n",
       "      <td>1</td>\n",
       "      <td>1</td>\n",
       "    </tr>\n",
       "    <tr>\n",
       "      <th>2</th>\n",
       "      <td>Petrus Strydom</td>\n",
       "      <td>3</td>\n",
       "      <td>83.0</td>\n",
       "      <td>M</td>\n",
       "      <td>6</td>\n",
       "      <td>0</td>\n",
       "      <td>0</td>\n",
       "      <td>1</td>\n",
       "      <td>0</td>\n",
       "      <td>0</td>\n",
       "      <td>0</td>\n",
       "    </tr>\n",
       "    <tr>\n",
       "      <th>3</th>\n",
       "      <td>Elsa Eksteen</td>\n",
       "      <td>6</td>\n",
       "      <td>65.0</td>\n",
       "      <td>F</td>\n",
       "      <td>0</td>\n",
       "      <td>0</td>\n",
       "      <td>0</td>\n",
       "      <td>0</td>\n",
       "      <td>0</td>\n",
       "      <td>0</td>\n",
       "      <td>0</td>\n",
       "    </tr>\n",
       "    <tr>\n",
       "      <th>4</th>\n",
       "      <td>Rita Leibach</td>\n",
       "      <td>16</td>\n",
       "      <td>78.0</td>\n",
       "      <td>F</td>\n",
       "      <td>1</td>\n",
       "      <td>3</td>\n",
       "      <td>0</td>\n",
       "      <td>7</td>\n",
       "      <td>2</td>\n",
       "      <td>0</td>\n",
       "      <td>2</td>\n",
       "    </tr>\n",
       "  </tbody>\n",
       "</table>\n",
       "</div>"
      ],
      "text/plain": [
       "             Name Participant   Age Sex  Lack of time  Social Influence  \\\n",
       "0    Boris Savvas           1  66.0   M             0                 0   \n",
       "1  Pamela Strydom           2  80.0   F             0                 0   \n",
       "2  Petrus Strydom           3  83.0   M             6                 0   \n",
       "3    Elsa Eksteen           6  65.0   F             0                 0   \n",
       "4    Rita Leibach          16  78.0   F             1                 3   \n",
       "\n",
       "   Lack of energy  Lack of will power  Fear of Injury  Lack of Skill  \\\n",
       "0               0                   0               0              0   \n",
       "1               3                   0               0              1   \n",
       "2               0                   1               0              0   \n",
       "3               0                   0               0              0   \n",
       "4               0                   7               2              0   \n",
       "\n",
       "   Lack of Resources  \n",
       "0                  0  \n",
       "1                  1  \n",
       "2                  0  \n",
       "3                  0  \n",
       "4                  2  "
      ]
     },
     "execution_count": 4,
     "metadata": {},
     "output_type": "execute_result"
    }
   ],
   "source": [
    "df = pd.read_excel('./data/data to be analyzed.xlsx' , header=1)\n",
    "df.columns = ['Name', 'Participant', 'Age', 'Sex', 'Lack of time',\n",
    "       'Social Influence', 'Lack of energy', 'Lack of will power',\n",
    "       'Fear of Injury', 'Lack of Skill', 'Lack of Resources']\n",
    "print(df.shape)\n",
    "df.head()"
   ]
  },
  {
   "cell_type": "code",
   "execution_count": 5,
   "metadata": {},
   "outputs": [
    {
     "name": "stdout",
     "output_type": "stream",
     "text": [
      "<class 'pandas.core.frame.DataFrame'>\n",
      "RangeIndex: 55 entries, 0 to 54\n",
      "Data columns (total 11 columns):\n",
      "Name                  55 non-null object\n",
      "Participant           55 non-null object\n",
      "Age                   50 non-null float64\n",
      "Sex                   55 non-null object\n",
      "Lack of time          55 non-null int64\n",
      "Social Influence      55 non-null int64\n",
      "Lack of energy        55 non-null int64\n",
      "Lack of will power    55 non-null int64\n",
      "Fear of Injury        55 non-null int64\n",
      "Lack of Skill         55 non-null int64\n",
      "Lack of Resources     55 non-null int64\n",
      "dtypes: float64(1), int64(7), object(3)\n",
      "memory usage: 4.8+ KB\n"
     ]
    }
   ],
   "source": [
    "# Hangle missing data df.isna().sum()\n",
    "df.info()"
   ]
  },
  {
   "cell_type": "markdown",
   "metadata": {},
   "source": [
    "# Impute Missing Data\n",
    "\n",
    "Clean data: impute missing values & covert 'Gender' to a binary variable"
   ]
  },
  {
   "cell_type": "code",
   "execution_count": 6,
   "metadata": {},
   "outputs": [
    {
     "data": {
      "text/html": [
       "<div>\n",
       "<style scoped>\n",
       "    .dataframe tbody tr th:only-of-type {\n",
       "        vertical-align: middle;\n",
       "    }\n",
       "\n",
       "    .dataframe tbody tr th {\n",
       "        vertical-align: top;\n",
       "    }\n",
       "\n",
       "    .dataframe thead th {\n",
       "        text-align: right;\n",
       "    }\n",
       "</style>\n",
       "<table border=\"1\" class=\"dataframe\">\n",
       "  <thead>\n",
       "    <tr style=\"text-align: right;\">\n",
       "      <th></th>\n",
       "      <th>Name</th>\n",
       "      <th>Participant</th>\n",
       "      <th>Age</th>\n",
       "      <th>Sex</th>\n",
       "      <th>Lack of time</th>\n",
       "      <th>Social Influence</th>\n",
       "      <th>Lack of energy</th>\n",
       "      <th>Lack of will power</th>\n",
       "      <th>Fear of Injury</th>\n",
       "      <th>Lack of Skill</th>\n",
       "      <th>Lack of Resources</th>\n",
       "    </tr>\n",
       "  </thead>\n",
       "  <tbody>\n",
       "    <tr>\n",
       "      <th>0</th>\n",
       "      <td>Boris Savvas</td>\n",
       "      <td>1</td>\n",
       "      <td>66.0</td>\n",
       "      <td>1</td>\n",
       "      <td>0</td>\n",
       "      <td>0</td>\n",
       "      <td>0</td>\n",
       "      <td>0</td>\n",
       "      <td>0</td>\n",
       "      <td>0</td>\n",
       "      <td>0</td>\n",
       "    </tr>\n",
       "    <tr>\n",
       "      <th>1</th>\n",
       "      <td>Pamela Strydom</td>\n",
       "      <td>2</td>\n",
       "      <td>80.0</td>\n",
       "      <td>0</td>\n",
       "      <td>0</td>\n",
       "      <td>0</td>\n",
       "      <td>3</td>\n",
       "      <td>0</td>\n",
       "      <td>0</td>\n",
       "      <td>1</td>\n",
       "      <td>1</td>\n",
       "    </tr>\n",
       "    <tr>\n",
       "      <th>2</th>\n",
       "      <td>Petrus Strydom</td>\n",
       "      <td>3</td>\n",
       "      <td>83.0</td>\n",
       "      <td>1</td>\n",
       "      <td>6</td>\n",
       "      <td>0</td>\n",
       "      <td>0</td>\n",
       "      <td>1</td>\n",
       "      <td>0</td>\n",
       "      <td>0</td>\n",
       "      <td>0</td>\n",
       "    </tr>\n",
       "    <tr>\n",
       "      <th>3</th>\n",
       "      <td>Elsa Eksteen</td>\n",
       "      <td>6</td>\n",
       "      <td>65.0</td>\n",
       "      <td>0</td>\n",
       "      <td>0</td>\n",
       "      <td>0</td>\n",
       "      <td>0</td>\n",
       "      <td>0</td>\n",
       "      <td>0</td>\n",
       "      <td>0</td>\n",
       "      <td>0</td>\n",
       "    </tr>\n",
       "    <tr>\n",
       "      <th>4</th>\n",
       "      <td>Rita Leibach</td>\n",
       "      <td>16</td>\n",
       "      <td>78.0</td>\n",
       "      <td>0</td>\n",
       "      <td>1</td>\n",
       "      <td>3</td>\n",
       "      <td>0</td>\n",
       "      <td>7</td>\n",
       "      <td>2</td>\n",
       "      <td>0</td>\n",
       "      <td>2</td>\n",
       "    </tr>\n",
       "  </tbody>\n",
       "</table>\n",
       "</div>"
      ],
      "text/plain": [
       "             Name Participant   Age  Sex  Lack of time  Social Influence  \\\n",
       "0    Boris Savvas           1  66.0    1             0                 0   \n",
       "1  Pamela Strydom           2  80.0    0             0                 0   \n",
       "2  Petrus Strydom           3  83.0    1             6                 0   \n",
       "3    Elsa Eksteen           6  65.0    0             0                 0   \n",
       "4    Rita Leibach          16  78.0    0             1                 3   \n",
       "\n",
       "   Lack of energy  Lack of will power  Fear of Injury  Lack of Skill  \\\n",
       "0               0                   0               0              0   \n",
       "1               3                   0               0              1   \n",
       "2               0                   1               0              0   \n",
       "3               0                   0               0              0   \n",
       "4               0                   7               2              0   \n",
       "\n",
       "   Lack of Resources  \n",
       "0                  0  \n",
       "1                  1  \n",
       "2                  0  \n",
       "3                  0  \n",
       "4                  2  "
      ]
     },
     "execution_count": 6,
     "metadata": {},
     "output_type": "execute_result"
    }
   ],
   "source": [
    "# Impute missing values (Age using mean)\n",
    "df['Age'] = df['Age'].fillna(df['Age'].mean())\n",
    "\n",
    "\n",
    "# convert gender to binary\n",
    "gender = {'M': 1,\n",
    "          'F': 0}\n",
    "\n",
    "df.Sex = [gender[i] for i in df.Sex]\n",
    "\n",
    "df.head()"
   ]
  },
  {
   "cell_type": "code",
   "execution_count": 7,
   "metadata": {},
   "outputs": [
    {
     "data": {
      "image/png": "[encoded data removed]",
      "text/plain": [
       "<Figure size 1260x1260 with 56 Axes>"
      ]
     },
     "metadata": {},
     "output_type": "display_data"
    }
   ],
   "source": [
    "import seaborn as sns\n",
    "# Basic correlogram\n",
    "plt.style.use('seaborn')\n",
    "sns.pairplot(df.iloc[:,4:], palette='YiGnBu')\n",
    "plt.show()"
   ]
  },
  {
   "cell_type": "code",
   "execution_count": 8,
   "metadata": {},
   "outputs": [
    {
     "data": {
      "image/png": "[encoded data removed]",
      "text/plain": [
       "<Figure size 576x288 with 1 Axes>"
      ]
     },
     "metadata": {},
     "output_type": "display_data"
    }
   ],
   "source": [
    "# age distribution\n",
    "import seaborn as sns\n",
    "\n",
    "plt.style.use('seaborn-darkgrid')\n",
    "\n",
    "plt.figure(figsize=(8,4))\n",
    "plt.xlabel('Age')\n",
    "plt.title('Gender Distribution')\n",
    "plt.ylabel('Frequency')\n",
    "sns.kdeplot(df['Age']);"
   ]
  },
  {
   "cell_type": "code",
   "execution_count": 9,
   "metadata": {},
   "outputs": [
    {
     "data": {
      "image/png": "[encoded data removed]",
      "text/plain": [
       "<Figure size 216x216 with 1 Axes>"
      ]
     },
     "metadata": {},
     "output_type": "display_data"
    }
   ],
   "source": [
    "# age distribution\n",
    "import seaborn as sns\n",
    "\n",
    "\n",
    "\n",
    "plt.figure(figsize=(3,3))\n",
    "plt.xlabel('Gender')\n",
    "plt.title('Gender Distribution')\n",
    "plt.ylabel('Frequency')\n",
    "plt.bar(['Male', 'Female'], [df.Sex.sum(), len(df.Sex) - df.Sex.sum()]);\n",
    "\n",
    "# plt.hist(df['Age'], bins=30, );"
   ]
  },
  {
   "cell_type": "markdown",
   "metadata": {},
   "source": [
    "# Interpretation"
   ]
  },
  {
   "cell_type": "code",
   "execution_count": 10,
   "metadata": {},
   "outputs": [
    {
     "data": {
      "image/png": "[encoded data removed]",
      "text/plain": [
       "<Figure size 360x216 with 1 Axes>"
      ]
     },
     "metadata": {},
     "output_type": "display_data"
    }
   ],
   "source": [
    "test = df['Lack of time']\n",
    "test[:10]\n",
    "plt.style.use('seaborn-darkgrid')\n",
    "plt.figure(figsize=(5,3))\n",
    "plt.title('Distribution of Lack of Time')\n",
    "plt.xlabel('Score')\n",
    "plt.ylabel('Frequency')\n",
    "plt.hist(test, color='darkgreen', alpha=0.7);"
   ]
  },
  {
   "cell_type": "markdown",
   "metadata": {},
   "source": [
    "# Correlation Matrix"
   ]
  },
  {
   "cell_type": "code",
   "execution_count": 11,
   "metadata": {},
   "outputs": [
    {
     "data": {
      "image/png": "[encoded data removed]",
      "text/plain": [
       "<Figure size 792x648 with 2 Axes>"
      ]
     },
     "metadata": {},
     "output_type": "display_data"
    }
   ],
   "source": [
    "from string import ascii_letters\n",
    "import numpy as np\n",
    "import pandas as pd\n",
    "import seaborn as sns\n",
    "import matplotlib.pyplot as plt\n",
    "\n",
    "sns.set(style=\"white\")\n",
    "\n",
    "\n",
    "#np.corrcoef([df['Age'], df['Sex'], df['Lack of time'], df['Social Influence'], df['Lack of energy'],\n",
    "# df['Lack of will power'], df['Fear of Injury'], df['Lack of Skill'], df['Lack of Resources']])\n",
    "# Compute the correlation matrix\n",
    "corr = df.iloc[:,2:].corr()\n",
    "\n",
    "# Generate a mask for the upper triangle\n",
    "mask = np.zeros_like(corr, dtype=np.bool)\n",
    "mask[np.triu_indices_from(mask)] = True\n",
    "\n",
    "# Set up the matplotlib figure\n",
    "f, ax = plt.subplots(figsize=(11, 9))\n",
    "\n",
    "# Generate a custom diverging colormap\n",
    "cmap = sns.diverging_palette(220, 10, as_cmap=True)\n",
    "cmap = sns.color_palette(\"GnBu_d\")\n",
    "\n",
    "# Draw the heatmap with the mask and correct aspect ratio\n",
    "sns.heatmap(corr, mask=mask, cmap=cmap, vmax=.3, center=0,\n",
    "            square=True, linewidths=.5, cbar_kws={\"shrink\": .5});"
   ]
  },
  {
   "cell_type": "markdown",
   "metadata": {},
   "source": [
    "# Simplify the Model Binary\n",
    "\n",
    "Most distributions are ZERO with a series of (decreasing) larger values. Consider a binary analysis wherein any value greater than $)$ is $1$"
   ]
  },
  {
   "cell_type": "code",
   "execution_count": 13,
   "metadata": {},
   "outputs": [
    {
     "data": {
      "image/png": "[encoded data removed]",
      "text/plain": [
       "<Figure size 792x648 with 2 Axes>"
      ]
     },
     "metadata": {},
     "output_type": "display_data"
    }
   ],
   "source": [
    "df_mod = df\n",
    "df_mod.iloc[:,3:] = (df_mod.iloc[:,3:] > 0).astype(int)\n",
    "\n",
    "\n",
    "# Compute the correlation matrix\n",
    "corr = df_mod.iloc[:,2:].corr()\n",
    "\n",
    "# Generate a mask for the upper triangle\n",
    "mask = np.zeros_like(corr, dtype=np.bool)\n",
    "mask[np.triu_indices_from(mask)] = True\n",
    "\n",
    "# Set up the matplotlib figure\n",
    "f, ax = plt.subplots(figsize=(11, 9))\n",
    "\n",
    "# Generate a custom diverging colormap\n",
    "cmap = sns.diverging_palette(220, 10, as_cmap=True)\n",
    "cmap = sns.cubehelix_palette(8)\n",
    "\n",
    "# Draw the heatmap with the mask and correct aspect ratio\n",
    "sns.heatmap(corr, mask=mask, cmap=cmap, vmax=.3, center=0,\n",
    "            square=True, linewidths=.5, cbar_kws={\"shrink\": .5});"
   ]
  },
  {
   "attachments": {},
   "cell_type": "markdown",
   "metadata": {},
   "source": [
    "# Statistical Analsis of Research Objectives\n",
    "\n",
    "\n",
    "# 2"
   ]
  },
  {
   "cell_type": "code",
   "execution_count": 62,
   "metadata": {},
   "outputs": [],
   "source": [
    "import pandas as pd\n",
    "import numpy as np\n",
    "import matplotlib.pyplot as plt \n"
   ]
  },
  {
   "cell_type": "code",
   "execution_count": 69,
   "metadata": {},
   "outputs": [
    {
     "name": "stdout",
     "output_type": "stream",
     "text": [
      "(49, 22)\n"
     ]
    },
    {
     "data": {
      "text/html": [
       "<div>\n",
       "<style scoped>\n",
       "    .dataframe tbody tr th:only-of-type {\n",
       "        vertical-align: middle;\n",
       "    }\n",
       "\n",
       "    .dataframe tbody tr th {\n",
       "        vertical-align: top;\n",
       "    }\n",
       "\n",
       "    .dataframe thead th {\n",
       "        text-align: right;\n",
       "    }\n",
       "</style>\n",
       "<table border=\"1\" class=\"dataframe\">\n",
       "  <thead>\n",
       "    <tr style=\"text-align: right;\">\n",
       "      <th></th>\n",
       "      <th>Name</th>\n",
       "      <th>Participant</th>\n",
       "      <th>Age</th>\n",
       "      <th>Sex</th>\n",
       "      <th>Kasari</th>\n",
       "      <th>Active mins per Week &gt; 150</th>\n",
       "      <th>Lack of time</th>\n",
       "      <th>Social Influence</th>\n",
       "      <th>Lack of energy</th>\n",
       "      <th>Lack of will power</th>\n",
       "      <th>...</th>\n",
       "      <th>Lack of Resources</th>\n",
       "      <th>Resting_blood_pressure_Systolic</th>\n",
       "      <th>Resting_blood_pressure_Diastolic</th>\n",
       "      <th>Resting HR</th>\n",
       "      <th>Stature (m)</th>\n",
       "      <th>Mass (kg)</th>\n",
       "      <th>BMI (kg/m²)</th>\n",
       "      <th>Wasit-to-hip Ratio</th>\n",
       "      <th>% BF</th>\n",
       "      <th>2 min step test</th>\n",
       "    </tr>\n",
       "  </thead>\n",
       "  <tbody>\n",
       "    <tr>\n",
       "      <th>0</th>\n",
       "      <td>Boris Savvas</td>\n",
       "      <td>1</td>\n",
       "      <td>66.0</td>\n",
       "      <td>M</td>\n",
       "      <td>48</td>\n",
       "      <td>False</td>\n",
       "      <td>0</td>\n",
       "      <td>0</td>\n",
       "      <td>0</td>\n",
       "      <td>0</td>\n",
       "      <td>...</td>\n",
       "      <td>0</td>\n",
       "      <td>110.0</td>\n",
       "      <td>70.0</td>\n",
       "      <td>60.0</td>\n",
       "      <td>1.72</td>\n",
       "      <td>84.7</td>\n",
       "      <td>28.63</td>\n",
       "      <td>0.91</td>\n",
       "      <td>26.5</td>\n",
       "      <td>127</td>\n",
       "    </tr>\n",
       "    <tr>\n",
       "      <th>1</th>\n",
       "      <td>Pamela Strydom</td>\n",
       "      <td>2</td>\n",
       "      <td>80.0</td>\n",
       "      <td>F</td>\n",
       "      <td>64</td>\n",
       "      <td>True</td>\n",
       "      <td>0</td>\n",
       "      <td>0</td>\n",
       "      <td>3</td>\n",
       "      <td>0</td>\n",
       "      <td>...</td>\n",
       "      <td>1</td>\n",
       "      <td>130.0</td>\n",
       "      <td>70.0</td>\n",
       "      <td>80.0</td>\n",
       "      <td>1.44</td>\n",
       "      <td>36.8</td>\n",
       "      <td>17.74</td>\n",
       "      <td>0.72</td>\n",
       "      <td>15.1</td>\n",
       "      <td>120</td>\n",
       "    </tr>\n",
       "    <tr>\n",
       "      <th>2</th>\n",
       "      <td>Petrus Strydom</td>\n",
       "      <td>3</td>\n",
       "      <td>83.0</td>\n",
       "      <td>M</td>\n",
       "      <td>40</td>\n",
       "      <td>True</td>\n",
       "      <td>6</td>\n",
       "      <td>0</td>\n",
       "      <td>0</td>\n",
       "      <td>1</td>\n",
       "      <td>...</td>\n",
       "      <td>0</td>\n",
       "      <td>120.0</td>\n",
       "      <td>65.0</td>\n",
       "      <td>64.0</td>\n",
       "      <td>1.64</td>\n",
       "      <td>63.9</td>\n",
       "      <td>23.47</td>\n",
       "      <td>0.86</td>\n",
       "      <td>21.2</td>\n",
       "      <td>120</td>\n",
       "    </tr>\n",
       "    <tr>\n",
       "      <th>3</th>\n",
       "      <td>Elsa Eksteen</td>\n",
       "      <td>6</td>\n",
       "      <td>65.0</td>\n",
       "      <td>F</td>\n",
       "      <td>48</td>\n",
       "      <td>False</td>\n",
       "      <td>0</td>\n",
       "      <td>0</td>\n",
       "      <td>0</td>\n",
       "      <td>0</td>\n",
       "      <td>...</td>\n",
       "      <td>0</td>\n",
       "      <td>110.0</td>\n",
       "      <td>65.0</td>\n",
       "      <td>52.0</td>\n",
       "      <td>1.63</td>\n",
       "      <td>52.0</td>\n",
       "      <td>19.57</td>\n",
       "      <td>0.75</td>\n",
       "      <td>28.3</td>\n",
       "      <td>107</td>\n",
       "    </tr>\n",
       "    <tr>\n",
       "      <th>4</th>\n",
       "      <td>Rita Leibach</td>\n",
       "      <td>16</td>\n",
       "      <td>78.0</td>\n",
       "      <td>F</td>\n",
       "      <td>6</td>\n",
       "      <td>False</td>\n",
       "      <td>1</td>\n",
       "      <td>3</td>\n",
       "      <td>0</td>\n",
       "      <td>7</td>\n",
       "      <td>...</td>\n",
       "      <td>2</td>\n",
       "      <td>110.0</td>\n",
       "      <td>65.0</td>\n",
       "      <td>60.0</td>\n",
       "      <td>1.62</td>\n",
       "      <td>51.8</td>\n",
       "      <td>19.73</td>\n",
       "      <td>0.73</td>\n",
       "      <td>31.8</td>\n",
       "      <td>76</td>\n",
       "    </tr>\n",
       "  </tbody>\n",
       "</table>\n",
       "<p>5 rows × 22 columns</p>\n",
       "</div>"
      ],
      "text/plain": [
       "             Name Participant   Age Sex  Kasari  Active mins per Week > 150  \\\n",
       "0    Boris Savvas           1  66.0   M      48                       False   \n",
       "1  Pamela Strydom           2  80.0   F      64                        True   \n",
       "2  Petrus Strydom           3  83.0   M      40                        True   \n",
       "3    Elsa Eksteen           6  65.0   F      48                       False   \n",
       "4    Rita Leibach          16  78.0   F       6                       False   \n",
       "\n",
       "   Lack of time  Social Influence  Lack of energy  Lack of will power  ...  \\\n",
       "0             0                 0               0                   0  ...   \n",
       "1             0                 0               3                   0  ...   \n",
       "2             6                 0               0                   1  ...   \n",
       "3             0                 0               0                   0  ...   \n",
       "4             1                 3               0                   7  ...   \n",
       "\n",
       "   Lack of Resources  Resting_blood_pressure_Systolic  \\\n",
       "0                  0                            110.0   \n",
       "1                  1                            130.0   \n",
       "2                  0                            120.0   \n",
       "3                  0                            110.0   \n",
       "4                  2                            110.0   \n",
       "\n",
       "   Resting_blood_pressure_Diastolic  Resting HR  Stature (m)  Mass (kg)  \\\n",
       "0                              70.0        60.0         1.72       84.7   \n",
       "1                              70.0        80.0         1.44       36.8   \n",
       "2                              65.0        64.0         1.64       63.9   \n",
       "3                              65.0        52.0         1.63       52.0   \n",
       "4                              65.0        60.0         1.62       51.8   \n",
       "\n",
       "   BMI (kg/m²)  Wasit-to-hip Ratio  % BF  2 min step test  \n",
       "0        28.63                0.91  26.5              127  \n",
       "1        17.74                0.72  15.1              120  \n",
       "2        23.47                0.86  21.2              120  \n",
       "3        19.57                0.75  28.3              107  \n",
       "4        19.73                0.73  31.8               76  \n",
       "\n",
       "[5 rows x 22 columns]"
      ]
     },
     "execution_count": 69,
     "metadata": {},
     "output_type": "execute_result"
    }
   ],
   "source": [
    "df = pd.read_excel('./data/correct_final_data.xlsx' )\n",
    "df.columns = ['Name', 'Participant', 'Age', 'Sex', 'Kasari', 'Active mins per Week > 150', \n",
    "            'Lack of time','Social Influence', 'Lack of energy', 'Lack of will power',\n",
    "            'Fear of Injury', 'Lack of Skill', 'Lack of Resources', 'Resting_blood_pressure_Systolic',\n",
    "       'Resting_blood_pressure_Diastolic', 'Resting HR', 'Stature (m)',\n",
    "       'Mass (kg)', 'BMI (kg/m²)', 'Wasit-to-hip Ratio', '% BF',\n",
    "       '2 min step test']\n",
    "\n",
    "df['Active mins per Week > 150'] = df['Active mins per Week > 150'] == 'active'\n",
    "\n",
    "print(df.shape)\n",
    "df.head()"
   ]
  },
  {
   "cell_type": "code",
   "execution_count": 70,
   "metadata": {},
   "outputs": [
    {
     "name": "stderr",
     "output_type": "stream",
     "text": [
      "/anaconda3/lib/python3.7/site-packages/ipykernel_launcher.py:3: SettingWithCopyWarning: \n",
      "A value is trying to be set on a copy of a slice from a DataFrame\n",
      "\n",
      "See the caveats in the documentation: http://pandas.pydata.org/pandas-docs/stable/indexing.html#indexing-view-versus-copy\n",
      "  This is separate from the ipykernel package so we can avoid doing imports until\n",
      "/anaconda3/lib/python3.7/site-packages/IPython/core/interactiveshell.py:3296: SettingWithCopyWarning: \n",
      "A value is trying to be set on a copy of a slice from a DataFrame\n",
      "\n",
      "See the caveats in the documentation: http://pandas.pydata.org/pandas-docs/stable/indexing.html#indexing-view-versus-copy\n",
      "  exec(code_obj, self.user_global_ns, self.user_ns)\n",
      "/anaconda3/lib/python3.7/site-packages/ipykernel_launcher.py:4: SettingWithCopyWarning: \n",
      "A value is trying to be set on a copy of a slice from a DataFrame\n",
      "\n",
      "See the caveats in the documentation: http://pandas.pydata.org/pandas-docs/stable/indexing.html#indexing-view-versus-copy\n",
      "  after removing the cwd from sys.path.\n",
      "/anaconda3/lib/python3.7/site-packages/ipykernel_launcher.py:5: SettingWithCopyWarning: \n",
      "A value is trying to be set on a copy of a slice from a DataFrame.\n",
      "Try using .loc[row_indexer,col_indexer] = value instead\n",
      "\n",
      "See the caveats in the documentation: http://pandas.pydata.org/pandas-docs/stable/indexing.html#indexing-view-versus-copy\n",
      "  \"\"\"\n"
     ]
    }
   ],
   "source": [
    "# Clean\n",
    "df_sub = df[df['2 min step test'].notna()]\n",
    "df_sub['2 min step test'][19] = '26'\n",
    "df_sub['2 min step test'][26] = '110'\n",
    "df_sub['2 min step test'] = [int(i) for i in df_sub['2 min step test']]"
   ]
  },
  {
   "cell_type": "markdown",
   "metadata": {},
   "source": [
    "# QUESTION 2\n",
    "\n",
    "## Describe current physical fitness status by means of Kasari fitness index (KFI) as well as the Two-minute step test (Senior Fitness Test)- write up a correlation between the two- data is newly added and describe descriptively\n",
    "\n",
    "## Describe physical fitness (2-min step test) of the population\n",
    "\n",
    "Roughly normal distribution of step scores"
   ]
  },
  {
   "cell_type": "code",
   "execution_count": 162,
   "metadata": {},
   "outputs": [
    {
     "name": "stdout",
     "output_type": "stream",
     "text": [
      "mean:  109.21428571428571\n",
      "std:  37.57882871174857\n"
     ]
    },
    {
     "data": {
      "image/png": "[encoded data removed]",
      "text/plain": [
       "<Figure size 432x288 with 1 Axes>"
      ]
     },
     "metadata": {},
     "output_type": "display_data"
    },
    {
     "data": {
      "image/png": "[encoded data removed]",
      "text/plain": [
       "<Figure size 432x288 with 1 Axes>"
      ]
     },
     "metadata": {},
     "output_type": "display_data"
    }
   ],
   "source": [
    "plt.style.use('seaborn-darkgrid')\n",
    "import seaborn as sns\n",
    "print('mean: ', np.mean(df_sub['2 min step test']))\n",
    "print('std: ', np.std(df_sub['2 min step test']))\n",
    "\n",
    "\n",
    "plt.title('Two min step test distribution')\n",
    "sns.kdeplot(df_sub['2 min step test'])\n",
    "plt.show()\n",
    "\n",
    "plt.title('Two min step test distribution')\n",
    "plt.hist(df_sub['2 min step test'], bins=10)\n",
    "plt.show();"
   ]
  },
  {
   "cell_type": "markdown",
   "metadata": {},
   "source": [
    "## Describe fitness higher in male vs female\n",
    "\n",
    "### ANOVA:\n",
    "Compare the MEAN SCORES OF each gender, see if there is statistical signicance (Same anova we've always done)\n",
    "\n",
    "CONCLUSION:\n",
    "\n",
    "REJECT $H0: µ_1 = µ_2$ (reject hypothis of equal means) \n",
    "\n",
    "p-val and test statistic below\n",
    "\n",
    "MALES are (on average) signficantly fitter than females"
   ]
  },
  {
   "cell_type": "code",
   "execution_count": 99,
   "metadata": {},
   "outputs": [
    {
     "data": {
      "text/plain": [
       "F_onewayResult(statistic=7.826254114071277, pvalue=0.007880822875948011)"
      ]
     },
     "execution_count": 99,
     "metadata": {},
     "output_type": "execute_result"
    }
   ],
   "source": [
    "# Create data\n",
    "male_scores = df_sub[df_sub.Sex == 'M']['2 min step test']\n",
    "female_scores = df_sub[df_sub.Sex != 'M']['2 min step test']\n",
    "\n",
    "# ANOVA\n",
    "import scipy.stats as st\n",
    "\n",
    "st.f_oneway(\n",
    "    male_scores,\n",
    "    female_scores\n",
    ")"
   ]
  },
  {
   "cell_type": "code",
   "execution_count": 101,
   "metadata": {},
   "outputs": [
    {
     "data": {
      "text/plain": [
       "(133.25, 99.6)"
      ]
     },
     "execution_count": 101,
     "metadata": {},
     "output_type": "execute_result"
    }
   ],
   "source": [
    "np.mean(male_scores), np.mean(female_scores)"
   ]
  },
  {
   "cell_type": "markdown",
   "metadata": {},
   "source": [
    "## Describe age category with highest fitness levels \n",
    "\n",
    "65-70, 70-75, 75-80, 80-85, 85-90, 90+\n",
    "\n",
    "NOTE:\n",
    "\n",
    "none above 85 so highest category is 80+ \n",
    "\n",
    "### CONCLUSION\n",
    "\n",
    "DO NOT REJECT null hypothesis of equal means (see p-val below) - NO SIGNIFICANT DIFFERENCE BETWEEN OBSERVED AGE CATEGORIES"
   ]
  },
  {
   "cell_type": "code",
   "execution_count": 140,
   "metadata": {},
   "outputs": [
    {
     "name": "stderr",
     "output_type": "stream",
     "text": [
      "/anaconda3/lib/python3.7/site-packages/ipykernel_launcher.py:3: UserWarning: Boolean Series key will be reindexed to match DataFrame index.\n",
      "  This is separate from the ipykernel package so we can avoid doing imports until\n",
      "/anaconda3/lib/python3.7/site-packages/ipykernel_launcher.py:5: UserWarning: Boolean Series key will be reindexed to match DataFrame index.\n",
      "  \"\"\"\n"
     ]
    }
   ],
   "source": [
    "df_65 = df_sub[df_sub.Age < 70]['2 min step test']\n",
    "\n",
    "df_70 = df_sub[70 <= df_sub.Age][df_sub.Age < 75]['2 min step test']\n",
    "\n",
    "df_75 = df_sub[75 <= df_sub.Age][df_sub.Age < 80]['2 min step test']\n",
    "\n",
    "df_80 = df_sub[80 <= df_sub.Age]['2 min step test']"
   ]
  },
  {
   "cell_type": "code",
   "execution_count": 155,
   "metadata": {},
   "outputs": [
    {
     "name": "stdout",
     "output_type": "stream",
     "text": [
      "compare means of the age categories: \n",
      "\n"
     ]
    },
    {
     "data": {
      "text/plain": [
       "[26.38095238095238, 37.333333333333336, 41.90909090909091, 35.22222222222222]"
      ]
     },
     "execution_count": 155,
     "metadata": {},
     "output_type": "execute_result"
    }
   ],
   "source": [
    "print('compare means of the age categories: \\n')\n",
    "data = [df_65, df_70, df_75, df_80]\n",
    "\n",
    "[np.mean(i) for i in data]"
   ]
  },
  {
   "cell_type": "code",
   "execution_count": 139,
   "metadata": {},
   "outputs": [
    {
     "data": {
      "text/plain": [
       "F_onewayResult(statistic=2.2202251279740786, pvalue=0.10254294307635026)"
      ]
     },
     "execution_count": 139,
     "metadata": {},
     "output_type": "execute_result"
    }
   ],
   "source": [
    "# STATISTICAL TEST\n",
    "st.f_oneway(df_65, df_70, df_75, df_80)"
   ]
  },
  {
   "cell_type": "markdown",
   "metadata": {},
   "source": [
    "## Describe fitness (2 min step test) vs physical activity (kasari- inactive vs active)\n",
    "\n",
    "CONCLUSION:\n",
    "ROUGHLY UNIFORM ACROSS ALL CANDIDATES"
   ]
  },
  {
   "cell_type": "code",
   "execution_count": 160,
   "metadata": {},
   "outputs": [
    {
     "name": "stdout",
     "output_type": "stream",
     "text": [
      "mean:  35.38775510204081\n",
      "std:  23.906122797420135\n"
     ]
    },
    {
     "name": "stderr",
     "output_type": "stream",
     "text": [
      "/anaconda3/lib/python3.7/site-packages/matplotlib/cbook/__init__.py:1725: UserWarning: Saw kwargs ['c', 'color'] which are all aliases for 'color'.  Kept value from 'color'\n",
      "  seen=seen, canon=canonical, used=seen[-1]))\n"
     ]
    },
    {
     "data": {
      "image/png": "[encoded data removed]",
      "text/plain": [
       "<Figure size 432x288 with 1 Axes>"
      ]
     },
     "metadata": {},
     "output_type": "display_data"
    },
    {
     "data": {
      "image/png": "[encoded data removed]",
      "text/plain": [
       "<Figure size 432x288 with 1 Axes>"
      ]
     },
     "metadata": {},
     "output_type": "display_data"
    }
   ],
   "source": [
    "\n",
    "print('mean: ', np.mean(df['Kasari']))\n",
    "print('std: ', np.std(df['Kasari']))\n",
    "\n",
    "plt.title('Two min step test distribution')\n",
    "sns.kdeplot(df['Kasari'],  c='g')\n",
    "plt.show()\n",
    "\n",
    "plt.title('Two min step test distribution')\n",
    "plt.hist(df['Kasari'], bins=10,  color='g')\n",
    "plt.show();"
   ]
  },
  {
   "cell_type": "markdown",
   "metadata": {},
   "source": [
    "## Describe physical activity in male vs female\n",
    "\n",
    "### CONCLUSION: \n",
    "\n",
    "Reject \n",
    "$$H_0: µ_m = µ_f$$\n",
    "$$H_1: µ_m > µ_f$$\n",
    "\n",
    "\n",
    "Males scores significantly higher"
   ]
  },
  {
   "cell_type": "code",
   "execution_count": 147,
   "metadata": {},
   "outputs": [
    {
     "data": {
      "text/plain": [
       "F_onewayResult(statistic=9.349033603966134, pvalue=0.0036750640665781623)"
      ]
     },
     "execution_count": 147,
     "metadata": {},
     "output_type": "execute_result"
    }
   ],
   "source": [
    "# Create data\n",
    "male_scores = df[df.Sex == 'M']['Kasari']\n",
    "female_scores = df[df.Sex != 'M']['Kasari']\n",
    "\n",
    "# ANOVA\n",
    "import scipy.stats as st\n",
    "\n",
    "st.f_oneway(\n",
    "    male_scores,\n",
    "    female_scores\n",
    ")"
   ]
  },
  {
   "cell_type": "code",
   "execution_count": 145,
   "metadata": {},
   "outputs": [
    {
     "data": {
      "text/plain": [
       "(48.166666666666664, 27.967741935483872)"
      ]
     },
     "execution_count": 145,
     "metadata": {},
     "output_type": "execute_result"
    }
   ],
   "source": [
    "np.mean(male_scores), np.mean(female_scores)"
   ]
  },
  {
   "cell_type": "markdown",
   "metadata": {},
   "source": [
    "## Describe physical activity in age categories- which has highest levels?\n",
    "\n",
    "### Conclusion\n",
    "\n",
    "No difference between group (age group) means"
   ]
  },
  {
   "cell_type": "code",
   "execution_count": 157,
   "metadata": {},
   "outputs": [
    {
     "name": "stderr",
     "output_type": "stream",
     "text": [
      "/anaconda3/lib/python3.7/site-packages/ipykernel_launcher.py:3: UserWarning: Boolean Series key will be reindexed to match DataFrame index.\n",
      "  This is separate from the ipykernel package so we can avoid doing imports until\n",
      "/anaconda3/lib/python3.7/site-packages/ipykernel_launcher.py:5: UserWarning: Boolean Series key will be reindexed to match DataFrame index.\n",
      "  \"\"\"\n"
     ]
    }
   ],
   "source": [
    "df_65 = df[df.Age < 70]['Kasari']\n",
    "\n",
    "df_70 = df[70 <= df.Age][df.Age < 75]['Kasari']\n",
    "\n",
    "df_75 = df[75 <= df.Age][df.Age < 80]['Kasari']\n",
    "\n",
    "df_80 = df[80 <= df.Age]['Kasari']"
   ]
  },
  {
   "cell_type": "code",
   "execution_count": 158,
   "metadata": {},
   "outputs": [
    {
     "name": "stdout",
     "output_type": "stream",
     "text": [
      "compare means of the age categories: \n",
      "\n"
     ]
    },
    {
     "data": {
      "text/plain": [
       "[26.38095238095238, 37.333333333333336, 41.90909090909091, 35.22222222222222]"
      ]
     },
     "execution_count": 158,
     "metadata": {},
     "output_type": "execute_result"
    }
   ],
   "source": [
    "print('compare means of the age categories: \\n')\n",
    "data = [df_65, df_70, df_75, df_80]\n",
    "\n",
    "[np.mean(i) for i in data]"
   ]
  },
  {
   "cell_type": "code",
   "execution_count": 159,
   "metadata": {},
   "outputs": [
    {
     "data": {
      "text/plain": [
       "F_onewayResult(statistic=1.1974526980408666, pvalue=0.3230588703887174)"
      ]
     },
     "execution_count": 159,
     "metadata": {},
     "output_type": "execute_result"
    }
   ],
   "source": [
    "# STATISTICAL TEST\n",
    "st.f_oneway(df_65, df_70, df_75, df_80)"
   ]
  },
  {
   "cell_type": "markdown",
   "metadata": {},
   "source": [
    "## Mean and standard deviation of fitness, as well as physical activity\n",
    "\n",
    "### == ANSWERED ABOVE IN DISTRIBUTIONS for both types of fitness tests\n",
    "\n",
    "# Question 3 and 4\n",
    "\n",
    "ALL IN THIS OUTPUT ASK ME FOR READIBILITY PROBLEMS\n",
    "\n",
    "Question 4 is provided in this output"
   ]
  },
  {
   "cell_type": "code",
   "execution_count": 202,
   "metadata": {},
   "outputs": [],
   "source": [
    "df['total BB'] = np.sum(df.iloc[:,6:13], axis=1)\n",
    "lax = pd.concat([df.iloc[:,6:13],df['total BB']], axis=1)"
   ]
  },
  {
   "cell_type": "code",
   "execution_count": 239,
   "metadata": {
    "scrolled": false
   },
   "outputs": [
    {
     "name": "stdout",
     "output_type": "stream",
     "text": [
      "\n",
      "\n",
      "\n",
      "\n",
      "_ _ _ _ _ _ _ _ Test Column:  Lack of time _ _ _ _ _ _ _ _\n",
      "\n",
      "\n",
      "\n",
      "- - - - - test GENDER differences - - - - -\n",
      "\n",
      "gender ANOVA test:  F_onewayResult(statistic=0.07654822503730704, pvalue=0.7832439502827452) \n",
      "\n",
      "MEAN over genders:  male:  1.2777777777777777 female:  1.4516129032258065 \n",
      "\n",
      "- - - - - \n",
      "\n",
      "- - - - - test AGE differences - - - - -\n",
      "\n",
      "compare means of the age categories:\n",
      "< 70 :  1.4285714285714286\n",
      "70 <= x < 75 :  4.0\n",
      "75 <= x < 80 :  0.2727272727272727\n",
      "80 <= x :  1.7777777777777777 \n",
      "\n",
      "AGE ANOVA test:  F_onewayResult(statistic=3.0215481030433486, pvalue=0.040754354756247196) \n",
      "\n",
      "\n",
      "- - - - - test Active vs Inactive - - - - -\n",
      "\n",
      "- - - - - \n",
      "mean for Active:  1.1612903225806452\n",
      "mean for Inactive:  1.7777777777777777\n",
      "Active vs Inactive ANOVA test:  F_onewayResult(statistic=0.9812403539513251, pvalue=0.32696529135489405) \n",
      "\n",
      "\n",
      "\n",
      "\n",
      "\n",
      "_ _ _ _ _ _ _ _ Test Column:  Social Influence _ _ _ _ _ _ _ _\n",
      "\n",
      "\n",
      "\n",
      "- - - - - test GENDER differences - - - - -\n",
      "\n",
      "gender ANOVA test:  F_onewayResult(statistic=0.3761735100315022, pvalue=0.5426151916030426) \n",
      "\n",
      "MEAN over genders:  male:  0.7777777777777778 female:  1.064516129032258 \n",
      "\n",
      "- - - - - \n",
      "\n",
      "- - - - - test AGE differences - - - - -\n",
      "\n",
      "compare means of the age categories:\n",
      "< 70 :  0.8571428571428571\n",
      "70 <= x < 75 :  3.0\n",
      "75 <= x < 80 :  1.1818181818181819\n",
      "80 <= x :  0.5555555555555556 \n",
      "\n",
      "AGE ANOVA test:  F_onewayResult(statistic=1.931329444332692, pvalue=0.14001389935975456) \n",
      "\n",
      "\n",
      "- - - - - test Active vs Inactive - - - - -\n",
      "\n",
      "- - - - - \n",
      "mean for Active:  1.1935483870967742\n",
      "mean for Inactive:  0.5555555555555556\n",
      "Active vs Inactive ANOVA test:  F_onewayResult(statistic=1.92310165855876, pvalue=0.17205770436714787) \n",
      "\n",
      "\n",
      "\n",
      "\n",
      "\n",
      "_ _ _ _ _ _ _ _ Test Column:  Lack of energy _ _ _ _ _ _ _ _\n",
      "\n",
      "\n",
      "\n",
      "- - - - - test GENDER differences - - - - -\n",
      "\n",
      "gender ANOVA test:  F_onewayResult(statistic=1.128921951924935, pvalue=0.29343443784977136) \n",
      "\n",
      "MEAN over genders:  male:  0.4444444444444444 female:  0.9354838709677419 \n",
      "\n",
      "- - - - - \n",
      "\n",
      "- - - - - test AGE differences - - - - -\n",
      "\n",
      "compare means of the age categories:\n",
      "< 70 :  1.0952380952380953\n",
      "70 <= x < 75 :  1.3333333333333333\n",
      "75 <= x < 80 :  0.18181818181818182\n",
      "80 <= x :  0.6666666666666666 \n",
      "\n",
      "AGE ANOVA test:  F_onewayResult(statistic=0.8854166666666666, pvalue=0.456890586535986) \n",
      "\n",
      "\n",
      "- - - - - test Active vs Inactive - - - - -\n",
      "\n",
      "- - - - - \n",
      "mean for Active:  0.45161290322580644\n",
      "mean for Inactive:  1.2777777777777777\n",
      "Active vs Inactive ANOVA test:  F_onewayResult(statistic=3.342680312044141, pvalue=0.07385504780342926) \n",
      "\n",
      "\n",
      "\n",
      "\n",
      "\n",
      "_ _ _ _ _ _ _ _ Test Column:  Lack of will power _ _ _ _ _ _ _ _\n",
      "\n",
      "\n",
      "\n",
      "- - - - - test GENDER differences - - - - -\n",
      "\n",
      "gender ANOVA test:  F_onewayResult(statistic=1.4105410986486613, pvalue=0.24093415071011537) \n",
      "\n",
      "MEAN over genders:  male:  1.2777777777777777 female:  2.225806451612903 \n",
      "\n",
      "- - - - - \n",
      "\n",
      "- - - - - test AGE differences - - - - -\n",
      "\n",
      "compare means of the age categories:\n",
      "< 70 :  2.619047619047619\n",
      "70 <= x < 75 :  1.6666666666666667\n",
      "75 <= x < 80 :  1.4545454545454546\n",
      "80 <= x :  1.4444444444444444 \n",
      "\n",
      "AGE ANOVA test:  F_onewayResult(statistic=0.5992989847883299, pvalue=0.6192225977771582) \n",
      "\n",
      "\n",
      "- - - - - test Active vs Inactive - - - - -\n",
      "\n",
      "- - - - - \n",
      "mean for Active:  2.3225806451612905\n",
      "mean for Inactive:  1.1111111111111112\n",
      "Active vs Inactive ANOVA test:  F_onewayResult(statistic=2.3479961343869027, pvalue=0.13214830014097836) \n",
      "\n",
      "\n",
      "\n",
      "\n",
      "\n",
      "_ _ _ _ _ _ _ _ Test Column:  Fear of Injury _ _ _ _ _ _ _ _\n",
      "\n",
      "\n",
      "\n",
      "- - - - - test GENDER differences - - - - -\n",
      "\n",
      "gender ANOVA test:  F_onewayResult(statistic=4.4009517343653695, pvalue=0.0413223404405393) \n",
      "\n",
      "MEAN over genders:  male:  0.16666666666666666 female:  1.096774193548387 \n",
      "\n",
      "- - - - - \n",
      "\n",
      "- - - - - test AGE differences - - - - -\n",
      "\n",
      "compare means of the age categories:\n",
      "< 70 :  0.5714285714285714\n",
      "70 <= x < 75 :  0.3333333333333333\n",
      "75 <= x < 80 :  0.18181818181818182\n",
      "80 <= x :  2.2222222222222223 \n",
      "\n",
      "AGE ANOVA test:  F_onewayResult(statistic=3.6190646043429857, pvalue=0.021082076726223024) \n",
      "\n",
      "\n",
      "- - - - - test Active vs Inactive - - - - -\n",
      "\n",
      "- - - - - \n",
      "mean for Active:  1.0\n",
      "mean for Inactive:  0.3333333333333333\n",
      "Active vs Inactive ANOVA test:  F_onewayResult(statistic=2.162523191094619, pvalue=0.14807583852595246) \n",
      "\n",
      "\n",
      "\n",
      "\n",
      "\n",
      "_ _ _ _ _ _ _ _ Test Column:  Lack of Skill _ _ _ _ _ _ _ _\n",
      "\n",
      "\n",
      "\n",
      "- - - - - test GENDER differences - - - - -\n",
      "\n",
      "gender ANOVA test:  F_onewayResult(statistic=1.7584905474612453, pvalue=0.1912215347965942) \n",
      "\n",
      "MEAN over genders:  male:  0.5555555555555556 female:  1.096774193548387 \n",
      "\n",
      "- - - - - \n",
      "\n",
      "- - - - - test AGE differences - - - - -\n",
      "\n",
      "compare means of the age categories:\n",
      "< 70 :  1.0952380952380953\n",
      "70 <= x < 75 :  1.3333333333333333\n",
      "75 <= x < 80 :  0.5454545454545454\n",
      "80 <= x :  1.0 \n",
      "\n",
      "AGE ANOVA test:  F_onewayResult(statistic=0.4136881122584063, pvalue=0.7440771360337661) \n",
      "\n",
      "\n",
      "- - - - - test Active vs Inactive - - - - -\n",
      "\n",
      "- - - - - \n",
      "mean for Active:  1.096774193548387\n",
      "mean for Inactive:  0.5555555555555556\n",
      "Active vs Inactive ANOVA test:  F_onewayResult(statistic=1.7584905474612451, pvalue=0.1912215347965942) \n",
      "\n",
      "\n",
      "\n",
      "\n",
      "\n",
      "_ _ _ _ _ _ _ _ Test Column:  Lack of Resources _ _ _ _ _ _ _ _\n",
      "\n",
      "\n",
      "\n",
      "- - - - - test GENDER differences - - - - -\n",
      "\n",
      "gender ANOVA test:  F_onewayResult(statistic=0.13896737059279599, pvalue=0.7109856673831167) \n",
      "\n",
      "MEAN over genders:  male:  1.0 female:  0.8387096774193549 \n",
      "\n",
      "- - - - - \n",
      "\n",
      "- - - - - test AGE differences - - - - -\n",
      "\n",
      "compare means of the age categories:\n",
      "< 70 :  0.8095238095238095\n",
      "70 <= x < 75 :  2.6666666666666665\n",
      "75 <= x < 80 :  1.0\n",
      "80 <= x :  0.3333333333333333 \n",
      "\n",
      "AGE ANOVA test:  F_onewayResult(statistic=2.090331202369343, pvalue=0.11674972906093614) \n",
      "\n",
      "\n",
      "- - - - - test Active vs Inactive - - - - -\n",
      "\n",
      "- - - - - \n",
      "mean for Active:  1.0\n",
      "mean for Inactive:  0.7222222222222222\n",
      "Active vs Inactive ANOVA test:  F_onewayResult(statistic=0.41459417007182126, pvalue=0.5227766988624356) \n",
      "\n",
      "\n",
      "\n",
      "\n",
      "\n",
      "_ _ _ _ _ _ _ _ Test Column:  total BB _ _ _ _ _ _ _ _\n",
      "\n",
      "\n",
      "\n",
      "- - - - - test GENDER differences - - - - -\n",
      "\n",
      "gender ANOVA test:  F_onewayResult(statistic=1.907337818381181, pvalue=0.17379090348567422) \n",
      "\n",
      "MEAN over genders:  male:  5.5 female:  8.709677419354838 \n",
      "\n",
      "- - - - - \n",
      "\n",
      "- - - - - test AGE differences - - - - -\n",
      "\n",
      "compare means of the age categories:\n",
      "< 70 :  8.476190476190476\n",
      "70 <= x < 75 :  14.333333333333334\n",
      "75 <= x < 80 :  4.818181818181818\n",
      "80 <= x :  8.0 \n",
      "\n",
      "AGE ANOVA test:  F_onewayResult(statistic=1.2284752219619313, pvalue=0.31196141450756837) \n",
      "\n",
      "\n",
      "- - - - - test Active vs Inactive - - - - -\n",
      "\n",
      "- - - - - \n",
      "mean for Active:  8.225806451612904\n",
      "mean for Inactive:  6.333333333333333\n",
      "Active vs Inactive ANOVA test:  F_onewayResult(statistic=0.6459761597866671, pvalue=0.42560141097210213) \n",
      "\n"
     ]
    },
    {
     "name": "stderr",
     "output_type": "stream",
     "text": [
      "/anaconda3/lib/python3.7/site-packages/ipykernel_launcher.py:21: UserWarning: Boolean Series key will be reindexed to match DataFrame index.\n",
      "/anaconda3/lib/python3.7/site-packages/ipykernel_launcher.py:22: UserWarning: Boolean Series key will be reindexed to match DataFrame index.\n",
      "/anaconda3/lib/python3.7/site-packages/ipykernel_launcher.py:21: UserWarning: Boolean Series key will be reindexed to match DataFrame index.\n",
      "/anaconda3/lib/python3.7/site-packages/ipykernel_launcher.py:22: UserWarning: Boolean Series key will be reindexed to match DataFrame index.\n",
      "/anaconda3/lib/python3.7/site-packages/ipykernel_launcher.py:21: UserWarning: Boolean Series key will be reindexed to match DataFrame index.\n",
      "/anaconda3/lib/python3.7/site-packages/ipykernel_launcher.py:22: UserWarning: Boolean Series key will be reindexed to match DataFrame index.\n",
      "/anaconda3/lib/python3.7/site-packages/ipykernel_launcher.py:21: UserWarning: Boolean Series key will be reindexed to match DataFrame index.\n",
      "/anaconda3/lib/python3.7/site-packages/ipykernel_launcher.py:22: UserWarning: Boolean Series key will be reindexed to match DataFrame index.\n",
      "/anaconda3/lib/python3.7/site-packages/ipykernel_launcher.py:21: UserWarning: Boolean Series key will be reindexed to match DataFrame index.\n",
      "/anaconda3/lib/python3.7/site-packages/ipykernel_launcher.py:22: UserWarning: Boolean Series key will be reindexed to match DataFrame index.\n",
      "/anaconda3/lib/python3.7/site-packages/ipykernel_launcher.py:21: UserWarning: Boolean Series key will be reindexed to match DataFrame index.\n",
      "/anaconda3/lib/python3.7/site-packages/ipykernel_launcher.py:22: UserWarning: Boolean Series key will be reindexed to match DataFrame index.\n",
      "/anaconda3/lib/python3.7/site-packages/ipykernel_launcher.py:21: UserWarning: Boolean Series key will be reindexed to match DataFrame index.\n",
      "/anaconda3/lib/python3.7/site-packages/ipykernel_launcher.py:22: UserWarning: Boolean Series key will be reindexed to match DataFrame index.\n",
      "/anaconda3/lib/python3.7/site-packages/ipykernel_launcher.py:21: UserWarning: Boolean Series key will be reindexed to match DataFrame index.\n",
      "/anaconda3/lib/python3.7/site-packages/ipykernel_launcher.py:22: UserWarning: Boolean Series key will be reindexed to match DataFrame index.\n"
     ]
    }
   ],
   "source": [
    "# TEST EACH EXCUSE & THE SUM OF THE EXCUSES BY GENDER AND BY AGE CATEGORIES\n",
    "for i in range(8):\n",
    "    \n",
    "    print('\\n\\n\\n\\n_ _ _ _ _ _ _ _ Test Column: ', lax.columns[i], '_ _ _ _ _ _ _ _\\n\\n')\n",
    "    \n",
    "    print('\\n- - - - - test GENDER differences - - - - -\\n')\n",
    "    # test by gender\n",
    "    male_scores = lax[df.Sex == 'M'].iloc[:,i]\n",
    "    female_scores = lax[df.Sex != 'M'].iloc[:,i]\n",
    "    print('gender ANOVA test: ', st.f_oneway(\n",
    "        male_scores,\n",
    "        female_scores), '\\n')\n",
    "    \n",
    "    print('MEAN over genders: ', 'male: ', np.mean(male_scores), 'female: ', np.mean(female_scores), '\\n')\n",
    "    print('- - - - - ')\n",
    "    \n",
    "    print('\\n- - - - - test AGE differences - - - - -\\n')\n",
    "    \n",
    "    # Test by age categories \n",
    "    df_65 = lax[df.Age < 70].iloc[:,i]\n",
    "    df_70 = lax[70 <= df.Age][df.Age < 75].iloc[:,i]\n",
    "    df_75 = lax[75 <= df.Age][df.Age < 80].iloc[:,i]\n",
    "    df_80 = lax[80 <= df.Age].iloc[:,i]\n",
    "    \n",
    "    print('compare means of the age categories:')\n",
    "    print('< 70 : ', np.mean(df_65))\n",
    "    print('70 <= x < 75 : ', np.mean(df_70))\n",
    "    print('75 <= x < 80 : ', np.mean(df_75))\n",
    "    print('80 <= x : ', np.mean(df_80), '\\n')\n",
    "    \n",
    "    print('AGE ANOVA test: ', st.f_oneway(\n",
    "        df_65, df_70, df_75, df_80), '\\n')\n",
    "    \n",
    "    \n",
    "    print('\\n- - - - - test Active vs Inactive - - - - -\\n')\n",
    "    \n",
    "    # Active vs Inactive\n",
    "    print('- - - - - ')\n",
    "    active = lax[df['Active mins per Week > 150'] == False].iloc[:,i]\n",
    "    Inactive = lax[df['Active mins per Week > 150'] == True].iloc[:,i]\n",
    "    \n",
    "    print('mean for Active: ', np.mean(active))\n",
    "    print('mean for Inactive: ', np.mean(Inactive))\n",
    "    \n",
    "    print('Active vs Inactive ANOVA test: ', st.f_oneway(\n",
    "        active,\n",
    "        Inactive), '\\n')\n",
    "    \n",
    "    \n",
    "    \n",
    "    "
   ]
  },
  {
   "cell_type": "markdown",
   "metadata": {},
   "source": [
    "## Additional Notes\n",
    "\n",
    "### Question to Address\n",
    "\n",
    "\n",
    "Objectives that must be covered:\n",
    "1.\tIdentify barriers to exercise in the elderly by means of the Barriers to being active quiz- identify most prevelant barrier NB- main objective of study\n",
    "(BBAQ-all bariers listed in excel).\n",
    "-\tIdentify the main barrier- possibly % of frequency \n",
    "\tFrequency and % prevalence of each barrier\n",
    "\tMain barrier in male, main barrier in female\n",
    "\tBarrier in age 65-70, 70-75, 75-80, 80-85, 85-90, 90+ (don’t include if no members older than 90)\n",
    "2.\tDescribe current physical fitness status by means of Kasari fitness index (KFI)as well as the Two-minute step test (Senior Fitness Test)- write up a correlation between the two- data is newly added and describe descriptively\n",
    "\tDescribe physical fitness (2-min step test) of the population\n",
    "\tDescribe fitness higher in male vs female\n",
    "\tDescribe age category with highest fitness levels \n",
    "\tDescribe fitness (2 min step test) vs physical activity (kasari- inactive vs active)\n",
    "\tDescribe physical activity in male vs female\n",
    "\tDescribe physical activity in age categories- which has highest levels?\n",
    "\tMean and standard deviation of fitness, as well as physical activity\n",
    "3.\tCompare exercise barriers in elderly males and females (by means of demographic (this has been done?)\n",
    "\tBBAQ prevalence to gender and age- total BBAQ as well as individual barriers to age and gender\n",
    "\tIndividual barriers in age categories \n",
    "\tMean of barrier extent – the score on BBAQ for each barrier. – more than a score of 5 means significance of barrier. \n",
    "\tNo. of barriers in female vs. the number of barriers in male\n",
    "\tMost common barrier in male vs. most common barrier in female.  \n",
    "\n",
    "4.\tCompare exercise barriers in active (more than 150 minutes per week of moderate activity)- data is newly added\n",
    "and inactive (less than 150 minutes per week of moderate activity) participants\n",
    "\tCorrelation between bbaq score and active vs inactive\n",
    "\tWithin active individuals – most common barrier\n",
    "\tWithin inactive individuals – most common barrier\n",
    "\tNo. of barriers in active vs. the number of barriers in inactive \n",
    "\tCorrelation between age, activity levels and barrier prevelence\n",
    "\n",
    "•\tNOTE: in excel spreadsheet some participants highlighted has been taken out due to not making inclusion criteria\n",
    "•\tAlso include other demographic stats of each participant\n",
    "•\tAlso include more descriptive stats- mean and standard deviations of age, height, weight, BMI, WH, body fat percentage, fitness levels- step test, activity levels- kasari index\n",
    "•\tAdd percentage of each barrier and frequency for each barrier and which barrier was most commonly reported\n",
    "•\tPossibly split barriers with females and males with means and standard deviations\n",
    "•\t ask for the stats how they have run and for which - parametric vs non-parametric etc?\n",
    "\n"
   ]
  }
 ],
 "metadata": {
  "kernelspec": {
   "display_name": "Python 3",
   "language": "python",
   "name": "python3"
  },
  "language_info": {
   "codemirror_mode": {
    "name": "ipython",
    "version": 3
   },
   "file_extension": ".py",
   "mimetype": "text/x-python",
   "name": "python",
   "nbconvert_exporter": "python",
   "pygments_lexer": "ipython3",
   "version": "3.7.3"
  }
 },
 "nbformat": 4,
 "nbformat_minor": 2
}
